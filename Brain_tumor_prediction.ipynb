{
 "cells": [
  {
   "cell_type": "code",
   "execution_count": 1,
   "id": "f8ebdd49",
   "metadata": {},
   "outputs": [
    {
     "name": "stdout",
     "output_type": "stream",
     "text": [
      "  Type                                        Description Body Part  \\\n",
      "0  MRI            Magnetic resonance imaging of the brain      Head   \n",
      "1  MRI                                   MRI of the brain      Head   \n",
      "2  MRI  Magnetic resonance imaging of the brain with c...      Head   \n",
      "3  MRI  Magnetic resonance imaging of the pituitary gland      Head   \n",
      "4  MRI                  MRI of the brain (Turkish saddle)      Head   \n",
      "\n",
      "     544,637   \n",
      "0    283,631   \n",
      "1     29,714   \n",
      "2     17,629   \n",
      "3     10,727   \n",
      "4      9,757   \n"
     ]
    }
   ],
   "source": [
    "import pandas as pd\n",
    "\n",
    "# Load CSV data\n",
    "csv_data = pd.read_csv('Brain_MRI_conditions.csv')\n",
    "print(csv_data.head())\n"
   ]
  },
  {
   "cell_type": "code",
   "execution_count": 2,
   "id": "1b600c29",
   "metadata": {},
   "outputs": [
    {
     "data": {
      "text/plain": [
       "Type           1\n",
       "Description    0\n",
       "Body Part      1\n",
       "  544,637      0\n",
       "dtype: int64"
      ]
     },
     "execution_count": 2,
     "metadata": {},
     "output_type": "execute_result"
    }
   ],
   "source": [
    "csv_data.isnull().sum()"
   ]
  },
  {
   "cell_type": "code",
   "execution_count": 3,
   "id": "741322dd",
   "metadata": {},
   "outputs": [
    {
     "data": {
      "text/html": [
       "<div>\n",
       "<style scoped>\n",
       "    .dataframe tbody tr th:only-of-type {\n",
       "        vertical-align: middle;\n",
       "    }\n",
       "\n",
       "    .dataframe tbody tr th {\n",
       "        vertical-align: top;\n",
       "    }\n",
       "\n",
       "    .dataframe thead th {\n",
       "        text-align: right;\n",
       "    }\n",
       "</style>\n",
       "<table border=\"1\" class=\"dataframe\">\n",
       "  <thead>\n",
       "    <tr style=\"text-align: right;\">\n",
       "      <th></th>\n",
       "      <th>Type</th>\n",
       "      <th>Description</th>\n",
       "      <th>Body Part</th>\n",
       "      <th>544,637</th>\n",
       "    </tr>\n",
       "  </thead>\n",
       "  <tbody>\n",
       "    <tr>\n",
       "      <th>count</th>\n",
       "      <td>51</td>\n",
       "      <td>52</td>\n",
       "      <td>51</td>\n",
       "      <td>52</td>\n",
       "    </tr>\n",
       "    <tr>\n",
       "      <th>unique</th>\n",
       "      <td>1</td>\n",
       "      <td>49</td>\n",
       "      <td>1</td>\n",
       "      <td>52</td>\n",
       "    </tr>\n",
       "    <tr>\n",
       "      <th>top</th>\n",
       "      <td>MRI</td>\n",
       "      <td>Magnetic resonance imaging of the brain with c...</td>\n",
       "      <td>Head</td>\n",
       "      <td>283,631</td>\n",
       "    </tr>\n",
       "    <tr>\n",
       "      <th>freq</th>\n",
       "      <td>51</td>\n",
       "      <td>2</td>\n",
       "      <td>51</td>\n",
       "      <td>1</td>\n",
       "    </tr>\n",
       "  </tbody>\n",
       "</table>\n",
       "</div>"
      ],
      "text/plain": [
       "       Type                                        Description Body Part  \\\n",
       "count    51                                                 52        51   \n",
       "unique    1                                                 49         1   \n",
       "top     MRI  Magnetic resonance imaging of the brain with c...      Head   \n",
       "freq     51                                                  2        51   \n",
       "\n",
       "          544,637   \n",
       "count           52  \n",
       "unique          52  \n",
       "top       283,631   \n",
       "freq             1  "
      ]
     },
     "execution_count": 3,
     "metadata": {},
     "output_type": "execute_result"
    }
   ],
   "source": [
    "csv_data.describe()"
   ]
  },
  {
   "cell_type": "code",
   "execution_count": 5,
   "id": "e3019781",
   "metadata": {},
   "outputs": [
    {
     "data": {
      "text/plain": [
       "Type           object\n",
       "Description    object\n",
       "Body Part      object\n",
       "  544,637      object\n",
       "dtype: object"
      ]
     },
     "execution_count": 5,
     "metadata": {},
     "output_type": "execute_result"
    }
   ],
   "source": [
    "csv_data.dtypes"
   ]
  },
  {
   "cell_type": "code",
   "execution_count": 7,
   "id": "227e5060",
   "metadata": {},
   "outputs": [
    {
     "name": "stdout",
     "output_type": "stream",
     "text": [
      "Collecting PyPDF2\n",
      "  Downloading pypdf2-3.0.1-py3-none-any.whl (232 kB)\n",
      "     ------------------------------------ 232.6/232.6 kB 592.9 kB/s eta 0:00:00\n",
      "Installing collected packages: PyPDF2\n",
      "Successfully installed PyPDF2-3.0.1\n"
     ]
    },
    {
     "name": "stderr",
     "output_type": "stream",
     "text": [
      "\n",
      "[notice] A new release of pip available: 22.2.2 -> 24.3.1\n",
      "[notice] To update, run: python.exe -m pip install --upgrade pip\n"
     ]
    }
   ],
   "source": [
    "!pip install PyPDF2"
   ]
  },
  {
   "cell_type": "code",
   "execution_count": 8,
   "id": "330332e6",
   "metadata": {},
   "outputs": [
    {
     "name": "stdout",
     "output_type": "stream",
     "text": [
      "Study: Contrast -enhanced magnetic resonance imaging of the brain.  \n",
      "MRI machine: Philips Intera 1.5T.  \n",
      "Age: 74. \n",
      "Sex: Female.  \n",
      "Race: Caucasian.  \n",
      "Brief anamnesis of the disease (complaints): dizziness, memory loss, weakness, numbness in the \n",
      "lower/upper extremities (left arm, left leg).  \n",
      " \n",
      "REPORT  \n",
      "A series of T1 - and T2 -weighted MR tomograms in three planes visualized sub - and supratentorial \n",
      "structures.  \n",
      "The midline structures are not displaced.  \n",
      "In series of IV contrasting in the right frontal and parietal lobes, single focal masses of round shape \n",
      "with diffuse type of contrast accumulation were noted and isointense MR -signal, the sizes were \n",
      "0.6x0.7 cm and 0.54x0.54 cm, respectively. Against the ba ckground of these focal formations defined \n",
      "zone of vasogenic edema in the right hemisphere, spreading in the frontal and parietal lobes, with an \n",
      "approximate extent of 4.4x9.1x4.2 cm, with an indistinctly expressed mass effect in the form of \n",
      "deformation of the upper contour o\n"
     ]
    }
   ],
   "source": [
    "import PyPDF2\n",
    "\n",
    "# Load and extract text from PDF\n",
    "pdf_file_path = 'Brain_MRI_tumor.pdf'\n",
    "pdf_text = \"\"\n",
    "\n",
    "with open(pdf_file_path, 'rb') as file:\n",
    "    reader = PyPDF2.PdfReader(file)\n",
    "    for page in reader.pages:\n",
    "        pdf_text += page.extract_text()\n",
    "\n",
    "print(pdf_text[:1000])  # Print a sample of the text\n"
   ]
  },
  {
   "cell_type": "code",
   "execution_count": 9,
   "id": "4bade4fa",
   "metadata": {},
   "outputs": [
    {
     "name": "stdout",
     "output_type": "stream",
     "text": [
      "Total images: 350\n"
     ]
    }
   ],
   "source": [
    "import os\n",
    "\n",
    "# Define image folder path\n",
    "image_folder = 'ST000001'\n",
    "classes = ['SE000001', 'SE000002', 'SE000003', 'SE000004', 'SE000005', \n",
    "           'SE000006', 'SE000007', 'SE000008', 'SE000009', 'SE000010']\n",
    "\n",
    "# Organize images\n",
    "image_data = []\n",
    "for class_name in classes:\n",
    "    class_folder = os.path.join(image_folder, class_name)\n",
    "    for img_file in os.listdir(class_folder):\n",
    "        if img_file.endswith('.jpg'):\n",
    "            image_data.append({'class': class_name, 'path': os.path.join(class_folder, img_file)})\n",
    "\n",
    "print(f\"Total images: {len(image_data)}\")\n"
   ]
  },
  {
   "cell_type": "code",
   "execution_count": 10,
   "id": "c0061a30",
   "metadata": {},
   "outputs": [],
   "source": [
    "import tensorflow as tf\n",
    "\n",
    "# Image preprocessing function\n",
    "IMG_SIZE = (128, 128)  # Resize to a smaller size if needed\n",
    "\n",
    "def preprocess_image(img_path):\n",
    "    image = tf.io.read_file(img_path)\n",
    "    image = tf.image.decode_jpeg(image, channels=3)\n",
    "    image = tf.image.resize(image, IMG_SIZE)\n",
    "    image = image / 255.0  # Normalize to [0,1] range\n",
    "    return image\n",
    "\n",
    "# Example usage\n",
    "sample_image = preprocess_image(image_data[0]['path'])\n"
   ]
  },
  {
   "cell_type": "code",
   "execution_count": 11,
   "id": "16b14cea",
   "metadata": {},
   "outputs": [],
   "source": [
    "from sklearn.preprocessing import LabelEncoder\n",
    "\n",
    "# Extract class labels\n",
    "labels = [img['class'] for img in image_data]\n",
    "label_encoder = LabelEncoder()\n",
    "encoded_labels = label_encoder.fit_transform(labels)\n",
    "\n",
    "# Map each image path to its encoded label\n",
    "for i in range(len(image_data)):\n",
    "    image_data[i]['label'] = encoded_labels[i]\n"
   ]
  },
  {
   "cell_type": "code",
   "execution_count": 12,
   "id": "1464da15",
   "metadata": {},
   "outputs": [
    {
     "name": "stdout",
     "output_type": "stream",
     "text": [
      "Model: \"sequential\"\n",
      "_________________________________________________________________\n",
      " Layer (type)                Output Shape              Param #   \n",
      "=================================================================\n",
      " conv2d (Conv2D)             (None, 126, 126, 32)      896       \n",
      "                                                                 \n",
      " max_pooling2d (MaxPooling2D  (None, 63, 63, 32)       0         \n",
      " )                                                               \n",
      "                                                                 \n",
      " conv2d_1 (Conv2D)           (None, 61, 61, 64)        18496     \n",
      "                                                                 \n",
      " max_pooling2d_1 (MaxPooling  (None, 30, 30, 64)       0         \n",
      " 2D)                                                             \n",
      "                                                                 \n",
      " conv2d_2 (Conv2D)           (None, 28, 28, 128)       73856     \n",
      "                                                                 \n",
      " max_pooling2d_2 (MaxPooling  (None, 14, 14, 128)      0         \n",
      " 2D)                                                             \n",
      "                                                                 \n",
      " flatten (Flatten)           (None, 25088)             0         \n",
      "                                                                 \n",
      " dense (Dense)               (None, 128)               3211392   \n",
      "                                                                 \n",
      " dropout (Dropout)           (None, 128)               0         \n",
      "                                                                 \n",
      " dense_1 (Dense)             (None, 10)                1290      \n",
      "                                                                 \n",
      "=================================================================\n",
      "Total params: 3,305,930\n",
      "Trainable params: 3,305,930\n",
      "Non-trainable params: 0\n",
      "_________________________________________________________________\n"
     ]
    }
   ],
   "source": [
    "from tensorflow.keras.models import Sequential\n",
    "from tensorflow.keras.layers import Conv2D, MaxPooling2D, Flatten, Dense, Dropout\n",
    "\n",
    "model = Sequential([\n",
    "    Conv2D(32, (3, 3), activation='relu', input_shape=(128, 128, 3)),\n",
    "    MaxPooling2D((2, 2)),\n",
    "    Conv2D(64, (3, 3), activation='relu'),\n",
    "    MaxPooling2D((2, 2)),\n",
    "    Conv2D(128, (3, 3), activation='relu'),\n",
    "    MaxPooling2D((2, 2)),\n",
    "    Flatten(),\n",
    "    Dense(128, activation='relu'),\n",
    "    Dropout(0.5),\n",
    "    Dense(len(classes), activation='softmax')  # Output layer for multi-class classification\n",
    "])\n",
    "\n",
    "model.compile(optimizer='adam', loss='sparse_categorical_crossentropy', metrics=['accuracy'])\n",
    "model.summary()\n"
   ]
  },
  {
   "cell_type": "code",
   "execution_count": 13,
   "id": "0dede941",
   "metadata": {},
   "outputs": [],
   "source": [
    "import numpy as np\n",
    "\n",
    "# Prepare image and label arrays\n",
    "images = np.array([preprocess_image(img['path']).numpy() for img in image_data])\n",
    "labels = np.array([img['label'] for img in image_data])\n",
    "\n",
    "# Split data into training and validation sets\n",
    "from sklearn.model_selection import train_test_split\n",
    "train_images, val_images, train_labels, val_labels = train_test_split(images, labels, test_size=0.2, random_state=42)\n"
   ]
  },
  {
   "cell_type": "code",
   "execution_count": 14,
   "id": "044b0c3e",
   "metadata": {},
   "outputs": [
    {
     "name": "stdout",
     "output_type": "stream",
     "text": [
      "Epoch 1/20\n",
      "9/9 [==============================] - 22s 2s/step - loss: 2.2127 - accuracy: 0.3607 - val_loss: 1.8479 - val_accuracy: 0.3714\n",
      "Epoch 2/20\n",
      "9/9 [==============================] - 16s 2s/step - loss: 1.6235 - accuracy: 0.4643 - val_loss: 1.2856 - val_accuracy: 0.5286\n",
      "Epoch 3/20\n",
      "9/9 [==============================] - 17s 2s/step - loss: 1.2524 - accuracy: 0.5750 - val_loss: 1.0373 - val_accuracy: 0.6143\n",
      "Epoch 4/20\n",
      "9/9 [==============================] - 17s 2s/step - loss: 1.1119 - accuracy: 0.6214 - val_loss: 0.7858 - val_accuracy: 0.7000\n",
      "Epoch 5/20\n",
      "9/9 [==============================] - 17s 2s/step - loss: 0.8466 - accuracy: 0.7143 - val_loss: 0.5910 - val_accuracy: 0.7429\n",
      "Epoch 6/20\n",
      "9/9 [==============================] - 17s 2s/step - loss: 0.7597 - accuracy: 0.7179 - val_loss: 0.5438 - val_accuracy: 0.7714\n",
      "Epoch 7/20\n",
      "9/9 [==============================] - 16s 2s/step - loss: 0.6024 - accuracy: 0.7821 - val_loss: 0.4111 - val_accuracy: 0.8714\n",
      "Epoch 8/20\n",
      "9/9 [==============================] - 16s 2s/step - loss: 0.4565 - accuracy: 0.8250 - val_loss: 0.3697 - val_accuracy: 0.8286\n",
      "Epoch 9/20\n",
      "9/9 [==============================] - 17s 2s/step - loss: 0.4127 - accuracy: 0.8393 - val_loss: 0.2457 - val_accuracy: 0.9429\n",
      "Epoch 10/20\n",
      "9/9 [==============================] - 17s 2s/step - loss: 0.3485 - accuracy: 0.8714 - val_loss: 0.2317 - val_accuracy: 0.9143\n",
      "Epoch 11/20\n",
      "9/9 [==============================] - 16s 2s/step - loss: 0.2337 - accuracy: 0.9107 - val_loss: 0.1973 - val_accuracy: 0.9000\n",
      "Epoch 12/20\n",
      "9/9 [==============================] - 17s 2s/step - loss: 0.2208 - accuracy: 0.9143 - val_loss: 0.3164 - val_accuracy: 0.8857\n",
      "Epoch 13/20\n",
      "9/9 [==============================] - 16s 2s/step - loss: 0.2792 - accuracy: 0.9071 - val_loss: 0.1865 - val_accuracy: 0.9143\n",
      "Epoch 14/20\n",
      "9/9 [==============================] - 17s 2s/step - loss: 0.3164 - accuracy: 0.8964 - val_loss: 0.2457 - val_accuracy: 0.9286\n",
      "Epoch 15/20\n",
      "9/9 [==============================] - 16s 2s/step - loss: 0.2300 - accuracy: 0.9321 - val_loss: 0.1858 - val_accuracy: 0.9143\n",
      "Epoch 16/20\n",
      "9/9 [==============================] - 16s 2s/step - loss: 0.2179 - accuracy: 0.9286 - val_loss: 0.1960 - val_accuracy: 0.9000\n",
      "Epoch 17/20\n",
      "9/9 [==============================] - 16s 2s/step - loss: 0.1861 - accuracy: 0.9250 - val_loss: 0.1715 - val_accuracy: 0.9286\n",
      "Epoch 18/20\n",
      "9/9 [==============================] - 16s 2s/step - loss: 0.1706 - accuracy: 0.9393 - val_loss: 0.1450 - val_accuracy: 0.9143\n",
      "Epoch 19/20\n",
      "9/9 [==============================] - 17s 2s/step - loss: 0.1095 - accuracy: 0.9571 - val_loss: 0.1729 - val_accuracy: 0.9286\n",
      "Epoch 20/20\n",
      "9/9 [==============================] - 16s 2s/step - loss: 0.0928 - accuracy: 0.9786 - val_loss: 0.1411 - val_accuracy: 0.9571\n"
     ]
    }
   ],
   "source": [
    "history = model.fit(train_images, train_labels, epochs=20, batch_size=32, validation_data=(val_images, val_labels))\n"
   ]
  },
  {
   "cell_type": "code",
   "execution_count": 15,
   "id": "f3d460cf",
   "metadata": {},
   "outputs": [
    {
     "name": "stdout",
     "output_type": "stream",
     "text": [
      "3/3 [==============================] - 1s 376ms/step - loss: 0.1411 - accuracy: 0.9571\n",
      "Validation Accuracy: 0.96\n"
     ]
    }
   ],
   "source": [
    "# Evaluate the model\n",
    "val_loss, val_accuracy = model.evaluate(val_images, val_labels)\n",
    "print(f\"Validation Accuracy: {val_accuracy:.2f}\")\n"
   ]
  },
  {
   "cell_type": "code",
   "execution_count": 16,
   "id": "72fca87e",
   "metadata": {},
   "outputs": [],
   "source": [
    "model.save('brain_tumor_classifier.h5')\n"
   ]
  },
  {
   "cell_type": "code",
   "execution_count": null,
   "id": "f57462dd",
   "metadata": {},
   "outputs": [],
   "source": []
  }
 ],
 "metadata": {
  "kernelspec": {
   "display_name": "Python 3 (ipykernel)",
   "language": "python",
   "name": "python3"
  },
  "language_info": {
   "codemirror_mode": {
    "name": "ipython",
    "version": 3
   },
   "file_extension": ".py",
   "mimetype": "text/x-python",
   "name": "python",
   "nbconvert_exporter": "python",
   "pygments_lexer": "ipython3",
   "version": "3.10.7"
  }
 },
 "nbformat": 4,
 "nbformat_minor": 5
}
